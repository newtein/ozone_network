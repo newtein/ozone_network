{
 "cells": [
  {
   "cell_type": "code",
   "execution_count": 1,
   "metadata": {},
   "outputs": [],
   "source": [
    "import pickle"
   ]
  },
  {
   "cell_type": "code",
   "execution_count": 2,
   "metadata": {},
   "outputs": [],
   "source": [
    "targetDict={\"NA/1\":\"1987-1989\",\"NA/2\":\"2001-2003\",\"NA/3\":\"2008-2010\",\"NA/4\":\"2014-2016\",}\n"
   ]
  },
  {
   "cell_type": "code",
   "execution_count": 3,
   "metadata": {},
   "outputs": [],
   "source": [
    "# Total Sites\n",
    "f=open('NA/clusteringData.csv','r')\n",
    "data={}\n",
    "for l in f:\n",
    "    row=l.strip().split(',')\n",
    "    year=row[0]\n",
    "    if year not in data:\n",
    "        data[year]={}\n",
    "    label=row[-2]\n",
    "    if label not in data[year]:\n",
    "        data[year][label]={}\n",
    "    NAvar=row[-1]\n",
    "    if NAvar=='-':\n",
    "        label2='NonNA'\n",
    "    else:\n",
    "        label2='NA'\n",
    "    if label2 not in data[year][label]:\n",
    "        data[year][label][label2]=0\n",
    "    data[year][label][label2]+=1\n",
    "    "
   ]
  },
  {
   "cell_type": "code",
   "execution_count": 4,
   "metadata": {},
   "outputs": [
    {
     "data": {
      "text/plain": [
       "{'1987-1989': {'CARBA': {'NA': 93, 'NonNA': 51},\n",
       "  'CARBB': {'NA': 99, 'NonNA': 19},\n",
       "  'Others': {'NA': 73, 'NonNA': 322}},\n",
       " '2001-2003': {'CARBA': {'NA': 123, 'NonNA': 72},\n",
       "  'CARBB': {'NA': 110, 'NonNA': 49},\n",
       "  'Others': {'NA': 46, 'NonNA': 706}},\n",
       " '2008-2010': {'CARBA': {'NA': 109, 'NonNA': 86},\n",
       "  'CARBB': {'NA': 63, 'NonNA': 109},\n",
       "  'Others': {'NA': 97, 'NonNA': 706}},\n",
       " '2014-2016': {'CARBA': {'NA': 142, 'NonNA': 53},\n",
       "  'CARBB': {'NA': 66, 'NonNA': 111},\n",
       "  'Others': {'NA': 204, 'NonNA': 636}}}"
      ]
     },
     "execution_count": 4,
     "metadata": {},
     "output_type": "execute_result"
    }
   ],
   "source": [
    "data"
   ]
  },
  {
   "cell_type": "code",
   "execution_count": 6,
   "metadata": {
    "scrolled": true
   },
   "outputs": [
    {
     "name": "stdout",
     "output_type": "stream",
     "text": [
      "1987-1989 Others NA 73 322 73/395 0.1848101265822785\n",
      "1987-1989 CARBB NA 99 19 99/118 0.8389830508474576\n",
      "1987-1989 CARBA NA 93 51 93/144 0.6458333333333334\n",
      "\n",
      "\n",
      "265/657=0.4033485540334855\n",
      "\n",
      "\n",
      "2001-2003 Others NA 46 706 46/752 0.061170212765957445\n",
      "2001-2003 CARBB NA 110 49 110/159 0.6918238993710691\n",
      "2001-2003 CARBA NA 123 72 123/195 0.6307692307692307\n",
      "\n",
      "\n",
      "279/1106=0.2522603978300181\n",
      "\n",
      "\n",
      "2008-2010 Others NA 97 706 97/803 0.12079701120797011\n",
      "2008-2010 CARBB NA 63 109 63/172 0.36627906976744184\n",
      "2008-2010 CARBA NA 109 86 109/195 0.558974358974359\n",
      "\n",
      "\n",
      "269/1170=0.2299145299145299\n",
      "\n",
      "\n",
      "2014-2016 Others NA 204 636 204/840 0.24285714285714285\n",
      "2014-2016 CARBB NA 66 111 66/177 0.3728813559322034\n",
      "2014-2016 CARBA NA 142 53 142/195 0.7282051282051282\n",
      "\n",
      "\n",
      "412/1212=0.33993399339933994\n",
      "\n",
      "\n"
     ]
    }
   ],
   "source": [
    "for year in data:\n",
    "    stotal,spartial=0,0\n",
    "    for label in data[year]:\n",
    "       \n",
    "        na=data[year][label]['NA']\n",
    "        nonna=data[year][label]['NonNA']\n",
    "        num=data[year][label][label2]\n",
    "        stotal+=na+nonna\n",
    "        spartial+=na\n",
    "        print(year,label,label2,na,nonna,'{}/{}'.format(na,na+nonna),na/(na+nonna))\n",
    "    print('\\n')\n",
    "    print('{}/{}={}'.format(spartial,stotal,spartial/stotal))\n",
    "    print('\\n')"
   ]
  },
  {
   "cell_type": "code",
   "execution_count": 84,
   "metadata": {},
   "outputs": [
    {
     "name": "stdout",
     "output_type": "stream",
     "text": [
      "Total Counties 392 134 0.34183673469387754\n",
      "1987-1989 27/46=0.5869565217391305 74/87=0.8505747126436781 33/259=0.1274131274131274\n",
      "Total Counties 660 128 0.19393939393939394\n",
      "2001-2003 34/64=0.53125 75/114=0.6578947368421053 19/482=0.03941908713692946\n",
      "Total Counties 720 102 0.14166666666666666\n",
      "2008-2010 25/64=0.390625 46/129=0.35658914728682173 31/527=0.058823529411764705\n",
      "Total Counties 762 170 0.2230971128608924\n",
      "2014-2016 37/65=0.5692307692307692 47/129=0.3643410852713178 86/568=0.15140845070422534\n"
     ]
    }
   ],
   "source": [
    "carbA=[6,41,53]\n",
    "carbB=[9,10,23,24,25,34,36,42,44,50,11]\n",
    "\n",
    "# Total County Stats\n",
    "for target in targetDict:\n",
    "    a,b,others=0,0,0\n",
    "    at,bt,otherst=0,0,0\n",
    "    endyear=targetDict[target].split('-')[1]\n",
    "    nodeNames=pickle.load(open('{}/Correlations/o3/{}/nodeNames.pickle'.format(target,endyear),\"rb\"))\n",
    "    #nodeList=nodeNames.keys()\n",
    "    NAData=pickle.load(open('{}/NAShrink.pickle'.format(target),'rb'))\n",
    "    NAList=['{}-{}'.format(int(i.split('/')[0]),int(i.split('/')[1])) for i in NAData]\n",
    "   \n",
    "    countyNames=list(set(['{}-{}'.format(int(i.split('-')[0]),int(i.split('-')[1])) for i in nodeNames if i.split('-')[0]!='CC']))\n",
    "    interNAList=set(NAList).intersection(countyNames)\n",
    "    print('Total Counties',len(countyNames),len(interNAList),len(interNAList)/len(countyNames))\n",
    "    for i in countyNames:\n",
    "        stateCode=int(i.split('-')[0])\n",
    "        if i in NAList:\n",
    "            if stateCode in carbA:\n",
    "                a+=1\n",
    "            elif stateCode in carbB:\n",
    "                b+=1\n",
    "            else:\n",
    "                others+=1\n",
    "        else:\n",
    "            if stateCode in carbA:\n",
    "                at+=1\n",
    "            elif stateCode in carbB:\n",
    "                bt+=1\n",
    "            else:\n",
    "                otherst+=1\n",
    "            \n",
    "    print(targetDict[target],'{}/{}={}'.format(a,a+at,a/(a+at)),'{}/{}={}'.format(b,b+bt,b/(b+bt)),'{}/{}={}'.format(others,others+otherst,others/(others+otherst)))\n",
    "    "
   ]
  },
  {
   "cell_type": "code",
   "execution_count": 40,
   "metadata": {},
   "outputs": [
    {
     "name": "stdout",
     "output_type": "stream",
     "text": [
      "200\n"
     ]
    }
   ],
   "source": [
    "print(len(NAData))"
   ]
  },
  {
   "cell_type": "code",
   "execution_count": 43,
   "metadata": {},
   "outputs": [
    {
     "name": "stdout",
     "output_type": "stream",
     "text": [
      "217\n"
     ]
    }
   ],
   "source": [
    "f=open(\"NA/files/NA1987-1989Codes.tsv\",\"r\")\n",
    "st=set()\n",
    "for l in f:\n",
    "    row=l.split('\\t')\n",
    "    st.add(row[-1])\n",
    "print(len(st))    "
   ]
  },
  {
   "cell_type": "code",
   "execution_count": 38,
   "metadata": {},
   "outputs": [
    {
     "data": {
      "text/plain": [
       "134"
      ]
     },
     "execution_count": 38,
     "metadata": {},
     "output_type": "execute_result"
    }
   ],
   "source": [
    "27+74+33"
   ]
  },
  {
   "cell_type": "code",
   "execution_count": 49,
   "metadata": {},
   "outputs": [],
   "source": []
  },
  {
   "cell_type": "code",
   "execution_count": 65,
   "metadata": {},
   "outputs": [],
   "source": [
    "def standard1979(x):\n",
    "    if x>=0.280:\n",
    "        return \"Extreme\"\n",
    "    elif 0.190<=x<0.280:\n",
    "        return \"Severe 17\"\n",
    "    elif 0.180<=x<0.190:\n",
    "        return \"Severe 15\"\n",
    "    elif 0.160<=x<0.180:\n",
    "        return \"Serious\"\n",
    "    elif 0.138<=x<0.160:\n",
    "        return \"Moderate\"\n",
    "    elif 0.121<=x<0.138:\n",
    "        return \"Marginal\"\n",
    "    elif x<0.121:\n",
    "        return \"Submarginal\"\n",
    "    else:\n",
    "        return \"Incomplete\"\n",
    "\n",
    "    \n",
    "def standard1997(x):\n",
    "    if x>=0.187:\n",
    "        return \"Extreme\"\n",
    "    elif 0.127<=x<0.187:\n",
    "        return \"Severe 17\"\n",
    "    elif 0.120<=x<0.127:\n",
    "        return \"Severe 15\"\n",
    "    elif 0.107<=x<0.120:\n",
    "        return \"Serious\"\n",
    "    elif 0.092<=x<0.107:\n",
    "        return \"Moderate\"\n",
    "    elif 0.085<=x<0.092:\n",
    "        return \"Marginal\"\n",
    "    elif x=='':\n",
    "        return \"Incomplete\"\n",
    "    \n",
    "    \n",
    "def standard2008(x):\n",
    "    if x>=0.175:\n",
    "        return \"Extreme\"\n",
    "    elif 0.119<=x<0.175:\n",
    "        return \"Severe 17\"\n",
    "    elif 0.113<=x<0.119:\n",
    "        return \"Severe 15\"\n",
    "    elif 0.100<=x<0.113:\n",
    "        return \"Serious\"\n",
    "    elif 0.086<=x<0.100:\n",
    "        return \"Moderate\"\n",
    "    elif 0.076<=x<0.086:\n",
    "        return \"Marginal\"\n",
    "    elif x=='':\n",
    "        return \"Incomplete\"\n",
    "    \n",
    "def standard2015(x):\n",
    "    if x>=0.163:\n",
    "        return \"Extreme\"\n",
    "    elif 0.111<=x<0.163:\n",
    "        return \"Severe 17\"\n",
    "    elif 0.105<=x<0.111:\n",
    "        return \"Severe 15\"\n",
    "    elif 0.093<=x<0.105:\n",
    "        return \"Serious\"\n",
    "    elif 0.081<=x<0.093:\n",
    "        return \"Moderate\"\n",
    "    elif 0.071<=x<0.081:\n",
    "        return \"Marginal\"\n",
    "     \n",
    "\n",
    "    "
   ]
  },
  {
   "cell_type": "code",
   "execution_count": 76,
   "metadata": {},
   "outputs": [
    {
     "name": "stdout",
     "output_type": "stream",
     "text": [
      "Severe 17\n"
     ]
    }
   ],
   "source": [
    "result=standard2015(0.112)\n",
    "print(result)"
   ]
  },
  {
   "cell_type": "code",
   "execution_count": null,
   "metadata": {},
   "outputs": [],
   "source": []
  }
 ],
 "metadata": {
  "kernelspec": {
   "display_name": "Python 3",
   "language": "python",
   "name": "python3"
  },
  "language_info": {
   "codemirror_mode": {
    "name": "ipython",
    "version": 3
   },
   "file_extension": ".py",
   "mimetype": "text/x-python",
   "name": "python",
   "nbconvert_exporter": "python",
   "pygments_lexer": "ipython3",
   "version": "3.6.3"
  }
 },
 "nbformat": 4,
 "nbformat_minor": 2
}
