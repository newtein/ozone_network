{
 "cells": [
  {
   "cell_type": "code",
   "execution_count": 3,
   "metadata": {},
   "outputs": [],
   "source": [
    "import pickle"
   ]
  },
  {
   "cell_type": "code",
   "execution_count": 12,
   "metadata": {},
   "outputs": [],
   "source": [
    "targetDict={\"NA/1\":\"1987-1989\",\"NA/2\":\"2001-2003\",\"NA/3\":\"2008-2010\",\"NA/4\":\"2014-2016\",}\n",
    "NAlabel=['Extreme','Severe 15','Severe 17','Serious']"
   ]
  },
  {
   "cell_type": "code",
   "execution_count": 13,
   "metadata": {},
   "outputs": [],
   "source": [
    "# Total Sites\n",
    "f=open('NA/clusteringData.csv','r')\n",
    "data={}\n",
    "for l in f:\n",
    "    row=l.strip().split(',')\n",
    "    year=row[0]\n",
    "    if year not in data:\n",
    "        data[year]={}\n",
    "    label=row[-2]\n",
    "    if label not in data[year]:\n",
    "        data[year][label]={}\n",
    "    NAvar=row[-1]\n",
    "    if NAvar=='-':\n",
    "        label2='NonNA'\n",
    "    else:\n",
    "        #print(NAvar.split('/')[1].strip())\n",
    "        if NAvar.split('/')[1].strip() in NAlabel:\n",
    "            label2='NA'\n",
    "            #print('ok')\n",
    "        else:\n",
    "            label2='NonNA'\n",
    "    if label2 not in data[year][label]:\n",
    "        data[year][label][label2]=0\n",
    "    data[year][label][label2]+=1\n",
    "    "
   ]
  },
  {
   "cell_type": "code",
   "execution_count": 14,
   "metadata": {
    "scrolled": true
   },
   "outputs": [
    {
     "data": {
      "text/plain": [
       "{'1987-1989': {'CARBA': {'NA': 71, 'NonNA': 73},\n",
       "  'CARBB': {'NA': 69, 'NonNA': 49},\n",
       "  'Others': {'NA': 59, 'NonNA': 336}},\n",
       " '2001-2003': {'CARBA': {'NA': 89, 'NonNA': 106},\n",
       "  'CARBB': {'NA': 102, 'NonNA': 57},\n",
       "  'Others': {'NA': 46, 'NonNA': 706}},\n",
       " '2008-2010': {'CARBA': {'NA': 77, 'NonNA': 118},\n",
       "  'CARBB': {'NonNA': 172},\n",
       "  'Others': {'NonNA': 803}},\n",
       " '2014-2016': {'CARBA': {'NA': 70, 'NonNA': 125},\n",
       "  'CARBB': {'NonNA': 177},\n",
       "  'Others': {'NonNA': 840}}}"
      ]
     },
     "execution_count": 14,
     "metadata": {},
     "output_type": "execute_result"
    }
   ],
   "source": [
    "data"
   ]
  },
  {
   "cell_type": "code",
   "execution_count": 16,
   "metadata": {
    "scrolled": true
   },
   "outputs": [
    {
     "name": "stdout",
     "output_type": "stream",
     "text": [
      "1987-1989 Others NonNA 59 336 59/395 0.14936708860759493\n",
      "1987-1989 CARBB NonNA 69 49 69/118 0.5847457627118644\n",
      "1987-1989 CARBA NonNA 71 73 71/144 0.4930555555555556\n",
      "\n",
      "\n",
      "199/657=0.3028919330289193\n",
      "\n",
      "\n",
      "2001-2003 Others NonNA 46 706 46/752 0.061170212765957445\n",
      "2001-2003 CARBB NonNA 102 57 102/159 0.6415094339622641\n",
      "2001-2003 CARBA NonNA 89 106 89/195 0.4564102564102564\n",
      "\n",
      "\n",
      "237/1106=0.21428571428571427\n",
      "\n",
      "\n",
      "2008-2010 Others NonNA 0 803 0/803 0.0\n",
      "2008-2010 CARBB NonNA 0 172 0/172 0.0\n",
      "2008-2010 CARBA NonNA 77 118 77/195 0.39487179487179486\n",
      "\n",
      "\n",
      "77/1170=0.06581196581196581\n",
      "\n",
      "\n",
      "2014-2016 Others NonNA 0 840 0/840 0.0\n",
      "2014-2016 CARBB NonNA 0 177 0/177 0.0\n",
      "2014-2016 CARBA NonNA 70 125 70/195 0.358974358974359\n",
      "\n",
      "\n",
      "70/1212=0.057755775577557754\n",
      "\n",
      "\n"
     ]
    }
   ],
   "source": [
    "for year in data:\n",
    "    stotal,spartial=0,0\n",
    "    for label in data[year]:\n",
    "        try:\n",
    "            na=data[year][label]['NA']\n",
    "        except:\n",
    "            na=0\n",
    "        nonna=data[year][label]['NonNA']\n",
    "        num=data[year][label][label2]\n",
    "        stotal+=na+nonna\n",
    "        spartial+=na\n",
    "        print(year,label,label2,na,nonna,'{}/{}'.format(na,na+nonna),na/(na+nonna))\n",
    "    print('\\n')\n",
    "    print('{}/{}={}'.format(spartial,stotal,spartial/stotal))\n",
    "    print('\\n')"
   ]
  },
  {
   "cell_type": "code",
   "execution_count": 17,
   "metadata": {},
   "outputs": [
    {
     "name": "stdout",
     "output_type": "stream",
     "text": [
      "Total Counties 392 92 0.23469387755102042\n",
      "1987-1989 17/46=0.3695652173913043 50/87=0.5747126436781609 25/259=0.09652509652509653\n",
      "Total Counties 660 107 0.1621212121212121\n",
      "2001-2003 20/64=0.3125 68/114=0.5964912280701754 19/482=0.03941908713692946\n",
      "Total Counties 720 13 0.018055555555555554\n",
      "2008-2010 13/64=0.203125 0/129=0.0 0/527=0.0\n",
      "Total Counties 762 12 0.015748031496062992\n",
      "2014-2016 12/65=0.18461538461538463 0/129=0.0 0/568=0.0\n"
     ]
    }
   ],
   "source": [
    "carbA=[6,41,53]\n",
    "carbB=[9,10,23,24,25,34,36,42,44,50,11]\n",
    "\n",
    "# Total County Stats\n",
    "for target in targetDict:\n",
    "    a,b,others=0,0,0\n",
    "    at,bt,otherst=0,0,0\n",
    "    endyear=targetDict[target].split('-')[1]\n",
    "    nodeNames=pickle.load(open('{}/Correlations/o3/{}/nodeNames.pickle'.format(target,endyear),\"rb\"))\n",
    "    #nodeList=nodeNames.keys()\n",
    "    NAData=pickle.load(open('{}/NAShrink.pickle'.format(target),'rb'))\n",
    "    NAList=['{}-{}'.format(int(i.split('/')[0]),int(i.split('/')[1])) for i in NAData if NAData[i] in NAlabel]\n",
    "   \n",
    "    countyNames=list(set(['{}-{}'.format(int(i.split('-')[0]),int(i.split('-')[1])) for i in nodeNames if i.split('-')[0]!='CC']))\n",
    "    interNAList=set(NAList).intersection(countyNames)\n",
    "    print('Total Counties',len(countyNames),len(interNAList),len(interNAList)/len(countyNames))\n",
    "    for i in countyNames:\n",
    "        stateCode=int(i.split('-')[0])\n",
    "        if i in NAList:\n",
    "            if stateCode in carbA:\n",
    "                a+=1\n",
    "            elif stateCode in carbB:\n",
    "                b+=1\n",
    "            else:\n",
    "                others+=1\n",
    "        else:\n",
    "            if stateCode in carbA:\n",
    "                at+=1\n",
    "            elif stateCode in carbB:\n",
    "                bt+=1\n",
    "            else:\n",
    "                otherst+=1\n",
    "            \n",
    "    print(targetDict[target],'{}/{}={}'.format(a,a+at,a/(a+at)),'{}/{}={}'.format(b,b+bt,b/(b+bt)),'{}/{}={}'.format(others,others+otherst,others/(others+otherst)))\n",
    "    "
   ]
  },
  {
   "cell_type": "code",
   "execution_count": 40,
   "metadata": {},
   "outputs": [
    {
     "name": "stdout",
     "output_type": "stream",
     "text": [
      "200\n"
     ]
    }
   ],
   "source": [
    "print(len(NAData))"
   ]
  },
  {
   "cell_type": "code",
   "execution_count": 43,
   "metadata": {},
   "outputs": [
    {
     "name": "stdout",
     "output_type": "stream",
     "text": [
      "217\n"
     ]
    }
   ],
   "source": [
    "f=open(\"NA/files/NA1987-1989Codes.tsv\",\"r\")\n",
    "st=set()\n",
    "for l in f:\n",
    "    row=l.split('\\t')\n",
    "    st.add(row[-1])\n",
    "print(len(st))    "
   ]
  },
  {
   "cell_type": "code",
   "execution_count": 38,
   "metadata": {},
   "outputs": [
    {
     "data": {
      "text/plain": [
       "134"
      ]
     },
     "execution_count": 38,
     "metadata": {},
     "output_type": "execute_result"
    }
   ],
   "source": [
    "27+74+33"
   ]
  },
  {
   "cell_type": "code",
   "execution_count": 49,
   "metadata": {},
   "outputs": [],
   "source": []
  },
  {
   "cell_type": "code",
   "execution_count": 65,
   "metadata": {},
   "outputs": [],
   "source": [
    "def standard1979(x):\n",
    "    if x>=0.280:\n",
    "        return \"Extreme\"\n",
    "    elif 0.190<=x<0.280:\n",
    "        return \"Severe 17\"\n",
    "    elif 0.180<=x<0.190:\n",
    "        return \"Severe 15\"\n",
    "    elif 0.160<=x<0.180:\n",
    "        return \"Serious\"\n",
    "    elif 0.138<=x<0.160:\n",
    "        return \"Moderate\"\n",
    "    elif 0.121<=x<0.138:\n",
    "        return \"Marginal\"\n",
    "    elif x<0.121:\n",
    "        return \"Submarginal\"\n",
    "    else:\n",
    "        return \"Incomplete\"\n",
    "\n",
    "    \n",
    "def standard1997(x):\n",
    "    if x>=0.187:\n",
    "        return \"Extreme\"\n",
    "    elif 0.127<=x<0.187:\n",
    "        return \"Severe 17\"\n",
    "    elif 0.120<=x<0.127:\n",
    "        return \"Severe 15\"\n",
    "    elif 0.107<=x<0.120:\n",
    "        return \"Serious\"\n",
    "    elif 0.092<=x<0.107:\n",
    "        return \"Moderate\"\n",
    "    elif 0.085<=x<0.092:\n",
    "        return \"Marginal\"\n",
    "    elif x=='':\n",
    "        return \"Incomplete\"\n",
    "    \n",
    "    \n",
    "def standard2008(x):\n",
    "    if x>=0.175:\n",
    "        return \"Extreme\"\n",
    "    elif 0.119<=x<0.175:\n",
    "        return \"Severe 17\"\n",
    "    elif 0.113<=x<0.119:\n",
    "        return \"Severe 15\"\n",
    "    elif 0.100<=x<0.113:\n",
    "        return \"Serious\"\n",
    "    elif 0.086<=x<0.100:\n",
    "        return \"Moderate\"\n",
    "    elif 0.076<=x<0.086:\n",
    "        return \"Marginal\"\n",
    "    elif x=='':\n",
    "        return \"Incomplete\"\n",
    "    \n",
    "def standard2015(x):\n",
    "    if x>=0.163:\n",
    "        return \"Extreme\"\n",
    "    elif 0.111<=x<0.163:\n",
    "        return \"Severe 17\"\n",
    "    elif 0.105<=x<0.111:\n",
    "        return \"Severe 15\"\n",
    "    elif 0.093<=x<0.105:\n",
    "        return \"Serious\"\n",
    "    elif 0.081<=x<0.093:\n",
    "        return \"Moderate\"\n",
    "    elif 0.071<=x<0.081:\n",
    "        return \"Marginal\"\n",
    "     \n",
    "\n",
    "    "
   ]
  },
  {
   "cell_type": "code",
   "execution_count": 76,
   "metadata": {},
   "outputs": [
    {
     "name": "stdout",
     "output_type": "stream",
     "text": [
      "Severe 17\n"
     ]
    }
   ],
   "source": [
    "result=standard2015(0.112)\n",
    "print(result)"
   ]
  },
  {
   "cell_type": "code",
   "execution_count": null,
   "metadata": {},
   "outputs": [],
   "source": []
  }
 ],
 "metadata": {
  "kernelspec": {
   "display_name": "Python 3",
   "language": "python",
   "name": "python3"
  },
  "language_info": {
   "codemirror_mode": {
    "name": "ipython",
    "version": 3
   },
   "file_extension": ".py",
   "mimetype": "text/x-python",
   "name": "python",
   "nbconvert_exporter": "python",
   "pygments_lexer": "ipython3",
   "version": "3.6.3"
  }
 },
 "nbformat": 4,
 "nbformat_minor": 2
}
