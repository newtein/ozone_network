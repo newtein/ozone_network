{
 "cells": [
  {
   "cell_type": "code",
   "execution_count": 85,
   "metadata": {},
   "outputs": [],
   "source": [
    "import numpy as np\n",
    "import networkx as nx\n",
    "import matplotlib.pyplot as plt"
   ]
  },
  {
   "cell_type": "code",
   "execution_count": 157,
   "metadata": {},
   "outputs": [],
   "source": [
    "A = np.matrix([[0, 0.5,0.6,0,0.9], [0.7, 0,0.69,0.6,0],[0.5,0.69,0,0.8,0],[0,0.6,0.8,0,0],[0.9,0,0,0,0]])\n",
    "A = np.matrix([[0,0.5,0.7,0,0.5], [0.5,0,0.9,0.7,0],[0.7,0.9,0,0.5,0],[0,0.7,0.5,0,0],[0.5,0,0,0,0]])\n",
    "G=nx.Graph()\n",
    "for i in range(len(A)):\n",
    "    G.add_node(i)\n",
    "for i in range(len(A)):\n",
    "    for j in range(len(A)):\n",
    "        if A[i,j]!=0:\n",
    "            G.add_edge(i,j,weight=A[i,j])"
   ]
  },
  {
   "cell_type": "code",
   "execution_count": 158,
   "metadata": {},
   "outputs": [
    {
     "data": {
      "image/png": "[encoded data removed]",
      "text/plain": [
       "<matplotlib.figure.Figure at 0xc8017b0>"
      ]
     },
     "metadata": {},
     "output_type": "display_data"
    }
   ],
   "source": [
    "nx.draw_networkx(G)\n",
    "plt.show()"
   ]
  },
  {
   "cell_type": "code",
   "execution_count": 159,
   "metadata": {},
   "outputs": [
    {
     "name": "stdout",
     "output_type": "stream",
     "text": [
      "3.8\n",
      "0.38\n",
      "1.52\n"
     ]
    }
   ],
   "source": [
    "edges=0\n",
    "n=len(A)\n",
    "for i in range(0,len(A)):\n",
    "    for j in range(0,len(A)):\n",
    "        if A[i,j]!=0:\n",
    "            edges=edges+A[i,j]\n",
    "edges=edges/2\n",
    "print(edges)\n",
    "print(2*edges/(n*(n-1)))  \n",
    "print(2*edges/n)"
   ]
  },
  {
   "cell_type": "code",
   "execution_count": 141,
   "metadata": {},
   "outputs": [
    {
     "data": {
      "text/plain": [
       "DegreeView({0: 1.7, 1: 2.0999999999999996, 2: 2.1000000000000001, 3: 1.2, 4: 0.5})"
      ]
     },
     "execution_count": 141,
     "metadata": {},
     "output_type": "execute_result"
    }
   ],
   "source": [
    "G.degree(weight='weight')"
   ]
  },
  {
   "cell_type": "code",
   "execution_count": 149,
   "metadata": {},
   "outputs": [
    {
     "data": {
      "text/plain": [
       "[0, 1, 1, 3]"
      ]
     },
     "execution_count": 149,
     "metadata": {},
     "output_type": "execute_result"
    }
   ],
   "source": [
    "nx.degree_histogram(G)"
   ]
  },
  {
   "cell_type": "code",
   "execution_count": 140,
   "metadata": {},
   "outputs": [
    {
     "data": {
      "text/plain": [
       "{0: 0.25200341170197654,\n",
       " 1: 0.50400682340395309,\n",
       " 2: 0.50400682340395309,\n",
       " 3: 0.75601023510592968,\n",
       " 4: 0}"
      ]
     },
     "execution_count": 140,
     "metadata": {},
     "output_type": "execute_result"
    }
   ],
   "source": [
    "nx.cluster.clustering(G,weight='weight')"
   ]
  },
  {
   "cell_type": "code",
   "execution_count": 161,
   "metadata": {},
   "outputs": [
    {
     "data": {
      "text/plain": [
       "0.40320545872316249"
      ]
     },
     "execution_count": 161,
     "metadata": {},
     "output_type": "execute_result"
    }
   ],
   "source": [
    "nx.average_clustering(G,weight='weight')"
   ]
  },
  {
   "cell_type": "code",
   "execution_count": 162,
   "metadata": {},
   "outputs": [
    {
     "data": {
      "text/plain": [
       "{1: 3.0, 2: 3.0, 3: 2.6271186440677963}"
      ]
     },
     "execution_count": 162,
     "metadata": {},
     "output_type": "execute_result"
    }
   ],
   "source": [
    "nx.average_degree_connectivity(G,weight='weight')"
   ]
  },
  {
   "cell_type": "code",
   "execution_count": 163,
   "metadata": {},
   "outputs": [
    {
     "data": {
      "text/plain": [
       "1.7"
      ]
     },
     "execution_count": 163,
     "metadata": {},
     "output_type": "execute_result"
    }
   ],
   "source": [
    "nx.average_node_connectivity(G)"
   ]
  },
  {
   "cell_type": "code",
   "execution_count": 164,
   "metadata": {},
   "outputs": [
    {
     "data": {
      "text/plain": [
       "1.5"
      ]
     },
     "execution_count": 164,
     "metadata": {},
     "output_type": "execute_result"
    }
   ],
   "source": [
    "nx.average_shortest_path_length(G)"
   ]
  },
  {
   "cell_type": "code",
   "execution_count": 170,
   "metadata": {},
   "outputs": [],
   "source": [
    "def extractFeautures(A,G):\n",
    "    '''N: Number of Nodes\n",
    "    L: Number of Edges while considering weight\n",
    "    k: Average degree'''\n",
    "    f=open(\"networkfeautures.csv\",\"a\")\n",
    "    L=0.0\n",
    "    N=len(A)\n",
    "    for i in range(0,N):\n",
    "        for j in range(0,N):\n",
    "            if A[i,j]!=0.0:\n",
    "                L=L+A[i,j]\n",
    "          \n",
    "    L=L/2\n",
    "    k=2*L/N\n",
    "    diameter=nx.diameter(G)\n",
    "    radius=nx.radius(G)\n",
    "    CC1=(2*L)/(N*(N-1))\n",
    "    CC2=nx.average_clustering(G,weight='weight')\n",
    "    randomDiameter=math.log(N)/math.log(k)\n",
    "    degreeDistribution=G.degree(weight='weight')\n",
    "    temp=[N,L,k,diameter,radius,randomDiameter,CC1,CC2]\n",
    "    f.write(\",\".join([str(i) for i in temp])+\"\\n\")\n",
    "    f.close()\n",
    "    \n",
    "    "
   ]
  },
  {
   "cell_type": "code",
   "execution_count": 148,
   "metadata": {},
   "outputs": [
    {
     "data": {
      "text/plain": [
       "0.9969486348916096"
      ]
     },
     "execution_count": 148,
     "metadata": {},
     "output_type": "execute_result"
    }
   ],
   "source": [
    "import math\n",
    "\n",
    "math.log(2.71)"
   ]
  },
  {
   "cell_type": "code",
   "execution_count": 175,
   "metadata": {},
   "outputs": [
    {
     "data": {
      "text/plain": [
       "1.7"
      ]
     },
     "execution_count": 175,
     "metadata": {},
     "output_type": "execute_result"
    }
   ],
   "source": [
    "nx.connectivity.connectivity.average_node_connectivity(G)"
   ]
  },
  {
   "cell_type": "code",
   "execution_count": null,
   "metadata": {},
   "outputs": [],
   "source": []
  }
 ],
 "metadata": {
  "kernelspec": {
   "display_name": "Python 3",
   "language": "python",
   "name": "python3"
  },
  "language_info": {
   "codemirror_mode": {
    "name": "ipython",
    "version": 3
   },
   "file_extension": ".py",
   "mimetype": "text/x-python",
   "name": "python",
   "nbconvert_exporter": "python",
   "pygments_lexer": "ipython3",
   "version": "3.6.3"
  }
 },
 "nbformat": 4,
 "nbformat_minor": 2
}
