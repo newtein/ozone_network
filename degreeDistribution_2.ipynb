{
 "cells": [
  {
   "cell_type": "code",
   "execution_count": 52,
   "metadata": {},
   "outputs": [],
   "source": [
    "import matplotlib.pyplot as plt\n",
    "import pickle\n",
    "import seaborn as sns\n",
    "import networkx as nx\n",
    "import  functools\n",
    "import math\n",
    "sns.set()"
   ]
  },
  {
   "cell_type": "code",
   "execution_count": 58,
   "metadata": {},
   "outputs": [],
   "source": [
    "import operator as op\n",
    "def nCr(n,r):\n",
    "    f = math.factorial\n",
    "    return f(n) // (f(r) * f(n-r))\n",
    "\n",
    "def calculatep(N,k,pi):\n",
    "    return nCr(N-1,k)*pow(pi,k)*(pow(1-pi,N-1-k))\n"
   ]
  },
  {
   "cell_type": "code",
   "execution_count": 2,
   "metadata": {},
   "outputs": [],
   "source": [
    "path=\"Com/CorrelationsSummary\"\n",
    "\n",
    "data=pickle.load(open(path+\"/degreeDistribution.pickle\",\"rb\"))"
   ]
  },
  {
   "cell_type": "code",
   "execution_count": 73,
   "metadata": {},
   "outputs": [
    {
     "data": {
      "image/png": "[encoded data removed]",
      "text/plain": [
       "<matplotlib.figure.Figure at 0xd2aa230>"
      ]
     },
     "metadata": {},
     "output_type": "display_data"
    }
   ],
   "source": [
    "n,bins,patches=plt.hist([i[1] for i in data],bins=10)\n",
    "plt.ylabel(\"pk\")\n",
    "plt.xlabel(\"k\")\n",
    "plt.title(\"Degree Distribution of Ozone Network of USA (1980-2017)\")\n",
    "plt.show()"
   ]
  },
  {
   "cell_type": "code",
   "execution_count": 66,
   "metadata": {},
   "outputs": [
    {
     "name": "stdout",
     "output_type": "stream",
     "text": [
      "[  2.   3.   5.   8.  11.  21.  31.  44.  29.  24.] [  10.00345176   19.18697535   28.37049895   37.55402255   46.73754615\n",
      "   55.92106974   65.10459334   74.28811694   83.47164054   92.65516413\n",
      "  101.83868773]\n"
     ]
    }
   ],
   "source": [
    "print(n,bins)"
   ]
  },
  {
   "cell_type": "code",
   "execution_count": 17,
   "metadata": {},
   "outputs": [],
   "source": [
    "G=pickle.load(open('Com/Graph.pickle',\"rb\"))\n",
    "waveMatrix=pickle.load(open('Com/waveMatrix.pickle',\"rb\"))\n",
    "skip=pickle.load(open('Com/skip.pickle',\"rb\"))\n",
    "nodeNames=pickle.load(open('Com/Correlations/o3/2017/nodeNames.pickle',\"rb\"))"
   ]
  },
  {
   "cell_type": "code",
   "execution_count": 60,
   "metadata": {},
   "outputs": [],
   "source": [
    "f=open(\"Com/degreeD.txt\",\"w\")\n",
    "for key in data:\n",
    "    pi=0.416\n",
    "    county=key[0]\n",
    "    k=int(key[1])\n",
    "    N=len(data)\n",
    "    p=calculatep(N,k,pi)\n",
    "    temp=[county,k,p]\n",
    "    f.write(\",\".join([str(i) for i in temp])+\"\\n\")\n",
    "f.close()"
   ]
  },
  {
   "cell_type": "code",
   "execution_count": 62,
   "metadata": {},
   "outputs": [
    {
     "data": {
      "image/png": "[encoded data removed]",
      "text/plain": [
       "<matplotlib.figure.Figure at 0xd589310>"
      ]
     },
     "metadata": {},
     "output_type": "display_data"
    }
   ],
   "source": [
    "f=open(\"Com/degreeD.txt\",\"r\")\n",
    "plt.close()\n",
    "kmean=73.79\n",
    "pi=0.416\n",
    "N=len(data)\n",
    "p=calculatep(N,kmean,pi)\n",
    "for l in f:\n",
    "    row=l.strip().split(\",\")\n",
    "    k=float(row[1])\n",
    "    p=float(row[2])\n",
    "    plt.scatter(k,p,color='g')\n",
    "    \n",
    "    plt.xlabel(\"k\")\n",
    "    plt.xlabel(\"p\")\n",
    "plt.show()"
   ]
  },
  {
   "cell_type": "code",
   "execution_count": 47,
   "metadata": {},
   "outputs": [
    {
     "data": {
      "text/plain": [
       "<function iter>"
      ]
     },
     "execution_count": 47,
     "metadata": {},
     "output_type": "execute_result"
    }
   ],
   "source": []
  },
  {
   "cell_type": "code",
   "execution_count": null,
   "metadata": {},
   "outputs": [],
   "source": []
  }
 ],
 "metadata": {
  "kernelspec": {
   "display_name": "Python 3",
   "language": "python",
   "name": "python3"
  },
  "language_info": {
   "codemirror_mode": {
    "name": "ipython",
    "version": 3
   },
   "file_extension": ".py",
   "mimetype": "text/x-python",
   "name": "python",
   "nbconvert_exporter": "python",
   "pygments_lexer": "ipython3",
   "version": "3.6.3"
  }
 },
 "nbformat": 4,
 "nbformat_minor": 2
}
