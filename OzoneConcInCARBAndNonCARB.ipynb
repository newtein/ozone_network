{
 "cells": [
  {
   "cell_type": "code",
   "execution_count": 18,
   "metadata": {},
   "outputs": [],
   "source": [
    "import os\n",
    "import pickle\n",
    "from collections import OrderedDict\n",
    "import matplotlib.pyplot as plt\n",
    "import seaborn as sns\n",
    "import numpy as np"
   ]
  },
  {
   "cell_type": "code",
   "execution_count": 2,
   "metadata": {},
   "outputs": [],
   "source": [
    "yearMap=OrderedDict()\n",
    "yearMapRev=OrderedDict()\n",
    "count=0\n",
    "for year in range(1980,2018):\n",
    "    yearMap[str(year)]=count\n",
    "    yearMapRev[count]=str(year)\n",
    "    count+=1\n",
    "    \n",
    "carbA=[6,41,53]\n",
    "carbB=[9,10,23,24,25,34,36,42,44,50,11]"
   ]
  },
  {
   "cell_type": "code",
   "execution_count": 22,
   "metadata": {},
   "outputs": [],
   "source": [
    "stateCodes=pickle.load(open(\"stateCode.pickle\",\"rb\"))\n",
    "paths=[str(i)+'/' for i in stateCodes]\n",
    "\n",
    "data={'CARBA':[],'CARBB':[],'Others':[]}\n",
    "for path in paths:\n",
    "    key=path[:-1]\n",
    "    for year in ['2017']:\n",
    "        extendedPath=path+\"Data/o3/\"+year\n",
    "        counties=os.listdir(extendedPath)\n",
    "\n",
    "        for county in counties:\n",
    "            temp = pickle.load(open(\"{}/{}\".format(extendedPath,county),\"rb\"))\n",
    "            temp = [i for i in temp if i!='-']\n",
    "            if int(key) in carbA:\n",
    "                data['CARBA'].extend(temp)\n",
    "            elif int(key) in carbB:\n",
    "                data['CARBB'].extend(temp)\n",
    "            else:\n",
    "                data['Others'].extend(temp)"
   ]
  },
  {
   "cell_type": "code",
   "execution_count": 24,
   "metadata": {},
   "outputs": [
    {
     "name": "stdout",
     "output_type": "stream",
     "text": [
      "CARBA 0.0437842846515 0.042 0.0151527027471\n",
      "CARBB 0.0381757990868 0.037 0.0114033437582\n",
      "Others 0.0409684814794 0.041 0.0116999619988\n"
     ]
    }
   ],
   "source": [
    "for key in data:\n",
    "    print(key,np.mean(data[key]),np.median(data[key]),np.std(data[key]))"
   ]
  },
  {
   "cell_type": "code",
   "execution_count": 12,
   "metadata": {},
   "outputs": [],
   "source": [
    "b = [i for i in a if i!='-']"
   ]
  },
  {
   "cell_type": "code",
   "execution_count": 21,
   "metadata": {},
   "outputs": [
    {
     "data": {
      "text/plain": [
       "[]"
      ]
     },
     "execution_count": 21,
     "metadata": {},
     "output_type": "execute_result"
    }
   ],
   "source": [
    "data['CARBA']"
   ]
  },
  {
   "cell_type": "code",
   "execution_count": null,
   "metadata": {},
   "outputs": [],
   "source": []
  }
 ],
 "metadata": {
  "kernelspec": {
   "display_name": "Python 3",
   "language": "python",
   "name": "python3"
  },
  "language_info": {
   "codemirror_mode": {
    "name": "ipython",
    "version": 3
   },
   "file_extension": ".py",
   "mimetype": "text/x-python",
   "name": "python",
   "nbconvert_exporter": "python",
   "pygments_lexer": "ipython3",
   "version": "3.6.3"
  }
 },
 "nbformat": 4,
 "nbformat_minor": 2
}
