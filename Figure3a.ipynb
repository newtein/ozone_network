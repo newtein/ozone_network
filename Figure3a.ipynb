{
 "cells": [
  {
   "cell_type": "code",
   "execution_count": 1,
   "metadata": {},
   "outputs": [],
   "source": [
    "import pickle\n",
    "import matplotlib.pyplot as plt\n",
    "import pickle\n",
    "import networkx as nx\n",
    "import  functools\n",
    "import math\n",
    "import numpy as np\n",
    "import os\n",
    "from decimal import Decimal\n",
    "from collections import OrderedDict\n",
    "from sklearn.metrics import mean_squared_error\n",
    "from scipy.stats import chisquare\n",
    "import subprocess as sp"
   ]
  },
  {
   "cell_type": "code",
   "execution_count": 2,
   "metadata": {},
   "outputs": [],
   "source": [
    "import operator as op\n",
    "def nCr(n,r):\n",
    "    f = math.factorial\n",
    "    return Decimal(f(n)) / (Decimal(f(r)) * Decimal(f(n-r)))\n",
    "\n",
    "def calculatep(N,k,pi):\n",
    "    return nCr(N-1,k)*Decimal(pow(pi,k))*Decimal(pow(1-pi,N-1-k))\n",
    "\n",
    "\n",
    "def setplot(plt):\n",
    "   \n",
    "    ax = plt.subplot(111) \n",
    "\n",
    "    ax.spines[\"top\"].set_visible(False)  \n",
    "    ax.spines[\"bottom\"].set_visible(False)  \n",
    "    ax.spines[\"right\"].set_visible(False)  \n",
    "    ax.spines[\"left\"].set_visible(False)\n",
    "\n",
    "    ax.get_xaxis().tick_bottom()    \n",
    "    ax.get_yaxis().tick_left()  \n",
    "    return plt,ax\n",
    "\n",
    "def excecuteCommand(command):\n",
    "    command=command.split()\n",
    "    process = sp.Popen(command, stdout=sp.PIPE, stderr=sp.PIPE)\n",
    "    stdout, stderr = process.communicate()\n",
    "    print(stdout,stderr,\"ok\")\n",
    "    return"
   ]
  },
  {
   "cell_type": "code",
   "execution_count": 3,
   "metadata": {},
   "outputs": [],
   "source": [
    "target=\"Com\"\n",
    "G=pickle.load(open('{}/Graph.pickle'.format(target),\"rb\"))\n",
    "waveMatrix=pickle.load(open('{}/waveMatrix.pickle'.format(target),\"rb\"))\n",
    "skip=pickle.load(open('{}/skip.pickle'.format(target),\"rb\"))\n",
    "nodeNames=pickle.load(open('{}/Correlations/o3/2017/nodeNames.pickle'.format(target),\"rb\"))"
   ]
  },
  {
   "cell_type": "code",
   "execution_count": 4,
   "metadata": {},
   "outputs": [],
   "source": [
    "networkDetails=open('{}/CorrelationSummary/networkfeautures.csv'.format(target),'r').readline().strip().split(',')\n",
    "\n",
    "try:\n",
    "    cluster=pickle.load(open('{}/cluster.pickle'.format(target),'rb'))\n",
    "    degree=pickle.load(open('{}/degree.pickle'.format(target),'rb'))\n",
    "except:\n",
    "    cluster=nx.clustering(G,weight='weight')\n",
    "    degree=nx.degree(G,weight='weight')\n",
    "    pickle.dump(cluster,open('{}/cluster.pickle'.format(target),'wb'))\n",
    "    pickle.dump(degree,open('{}/degree.pickle'.format(target),'wb'))\n",
    "    \n",
    "kmean=float(networkDetails[3])\n",
    "pi=float(networkDetails[-2])\n",
    "N=len(degree)\n",
    "Cavg=float(networkDetails[-1])"
   ]
  },
  {
   "cell_type": "code",
   "execution_count": 5,
   "metadata": {},
   "outputs": [],
   "source": [
    "from networkx.algorithms import community\n",
    "import community as pylc\n",
    "\n",
    "def bisectGraph(G,name1,name2):\n",
    "    c=community.kernighan_lin_bisection(G,weight='weight')\n",
    "    pickle.dump(list(c[0]),open(\"community/a/{}.pickle\".format(name1),\"wb\"))\n",
    "    pickle.dump(list(c[1]),open(\"community/a/{}.pickle\".format(name2),\"wb\"))\n",
    "    print('py -3 plotBasemap.py {}'.format(name1))\n",
    "    excecuteCommand('py -3 plotBasemap.py {} a'.format(name1))\n",
    "    excecuteCommand('py -3 plotBasemap.py {} a'.format(name2))\n",
    "    #print(a,b)\n",
    "    print('Done!')\n",
    "    return G.subgraph(c[0]),G.subgraph(c[1]),c\n",
    "\n",
    "def greedyModularity(G,name1):\n",
    "    c = list(community.asyn_lpa_communities(G,weight='weight'))\n",
    "    print(len(c))\n",
    "   \n",
    "    for i in range(len(c)):\n",
    "        pickle.dump(list(c[i]),open(\"community/b/{}{}.pickle\".format(name1,i),\"wb\"))   \n",
    "        excecuteCommand('py -3 plotBasemap.py {}{} {}'.format(name1,i,'b'))\n",
    "        graphList.append(G.subgraph(c[i]))\n",
    "    print('Done!')\n",
    "    return graphList,c\n",
    "\n",
    "def pythonLouveinCom(G,name1):\n",
    "    partition=pylc.best_partition(G,weight='weight')\n",
    "    graphList,nodeList=[],[]\n",
    "    count=0\n",
    "    print('ok','c')\n",
    "    for com in set(partition.values()) :\n",
    "        count = count + 1\n",
    "        list_nodes = [nodes for nodes in partition.keys() if partition[nodes] == com]\n",
    "        pickle.dump(list_nodes,open(\"community/c/{}{}.pickle\".format(name1,count),\"wb\"))   \n",
    "        excecuteCommand('py -3 plotBasemap.py {}{} {}'.format(name1,count,'c'))\n",
    "        graphList.append(G.subgraph(list_nodes))\n",
    "        nodeList.append(set(list_nodes))\n",
    "       \n",
    "    return graphList,nodeList"
   ]
  },
  {
   "cell_type": "code",
   "execution_count": 13,
   "metadata": {},
   "outputs": [
    {
     "name": "stdout",
     "output_type": "stream",
     "text": [
      "py -3 plotBasemap.py 1\n",
      "b'' b'Traceback (most recent call last):\\r\\n  File \"plotBasemap.py\", line 14, in <module>\\r\\n    from mpl_toolkits.basemap import Basemap\\r\\n  File \"C:\\\\Users\\\\Administrator\\\\Miniconda3\\\\lib\\\\site-packages\\\\mpl_toolkits\\\\basemap\\\\__init__.py\", line 155, in <module>\\r\\n    pyproj_datadir = os.environ[\\'PROJ_LIB\\']\\r\\n  File \"C:\\\\Users\\\\Administrator\\\\Miniconda3\\\\lib\\\\os.py\", line 669, in __getitem__\\r\\n    raise KeyError(key) from None\\r\\nKeyError: \\'PROJ_LIB\\'\\r\\n' ok\n",
      "b'' b'Traceback (most recent call last):\\r\\n  File \"plotBasemap.py\", line 14, in <module>\\r\\n    from mpl_toolkits.basemap import Basemap\\r\\n  File \"C:\\\\Users\\\\Administrator\\\\Miniconda3\\\\lib\\\\site-packages\\\\mpl_toolkits\\\\basemap\\\\__init__.py\", line 155, in <module>\\r\\n    pyproj_datadir = os.environ[\\'PROJ_LIB\\']\\r\\n  File \"C:\\\\Users\\\\Administrator\\\\Miniconda3\\\\lib\\\\os.py\", line 669, in __getitem__\\r\\n    raise KeyError(key) from None\\r\\nKeyError: \\'PROJ_LIB\\'\\r\\n' ok\n",
      "Done!\n",
      "1 2 0.116080332923\n",
      "72 73\n"
     ]
    }
   ],
   "source": [
    "# k - lin\n",
    "\n",
    "G1,G2,c=bisectGraph(G,1,2)\n",
    "community.modularity(G,c,weight='weight')\n",
    "print(1,2,community.modularity(G,c,weight='weight'))\n",
    "print(G1.number_of_nodes(),G2.number_of_nodes())"
   ]
  },
  {
   "cell_type": "code",
   "execution_count": 14,
   "metadata": {},
   "outputs": [
    {
     "name": "stdout",
     "output_type": "stream",
     "text": [
      "py -3 plotBasemap.py 11\n",
      "b'' b'Traceback (most recent call last):\\r\\n  File \"plotBasemap.py\", line 14, in <module>\\r\\n    from mpl_toolkits.basemap import Basemap\\r\\n  File \"C:\\\\Users\\\\Administrator\\\\Miniconda3\\\\lib\\\\site-packages\\\\mpl_toolkits\\\\basemap\\\\__init__.py\", line 155, in <module>\\r\\n    pyproj_datadir = os.environ[\\'PROJ_LIB\\']\\r\\n  File \"C:\\\\Users\\\\Administrator\\\\Miniconda3\\\\lib\\\\os.py\", line 669, in __getitem__\\r\\n    raise KeyError(key) from None\\r\\nKeyError: \\'PROJ_LIB\\'\\r\\n' ok\n",
      "b'' b'Traceback (most recent call last):\\r\\n  File \"plotBasemap.py\", line 14, in <module>\\r\\n    from mpl_toolkits.basemap import Basemap\\r\\n  File \"C:\\\\Users\\\\Administrator\\\\Miniconda3\\\\lib\\\\site-packages\\\\mpl_toolkits\\\\basemap\\\\__init__.py\", line 155, in <module>\\r\\n    pyproj_datadir = os.environ[\\'PROJ_LIB\\']\\r\\n  File \"C:\\\\Users\\\\Administrator\\\\Miniconda3\\\\lib\\\\os.py\", line 669, in __getitem__\\r\\n    raise KeyError(key) from None\\r\\nKeyError: \\'PROJ_LIB\\'\\r\\n' ok\n",
      "Done!\n",
      "11 12 0.114677982154\n",
      "36 36\n"
     ]
    }
   ],
   "source": [
    "G11,G12,c1=bisectGraph(G1,11,12)\n",
    "\n",
    "\n",
    "print(11,12,community.modularity(G,[c1[0],c1[1],c[1]],weight='weight'))\n",
    "print(G11.number_of_nodes(),G12.number_of_nodes())"
   ]
  },
  {
   "cell_type": "code",
   "execution_count": 15,
   "metadata": {},
   "outputs": [
    {
     "name": "stdout",
     "output_type": "stream",
     "text": [
      "py -3 plotBasemap.py 21\n",
      "b'' b'Traceback (most recent call last):\\r\\n  File \"plotBasemap.py\", line 14, in <module>\\r\\n    from mpl_toolkits.basemap import Basemap\\r\\n  File \"C:\\\\Users\\\\Administrator\\\\Miniconda3\\\\lib\\\\site-packages\\\\mpl_toolkits\\\\basemap\\\\__init__.py\", line 155, in <module>\\r\\n    pyproj_datadir = os.environ[\\'PROJ_LIB\\']\\r\\n  File \"C:\\\\Users\\\\Administrator\\\\Miniconda3\\\\lib\\\\os.py\", line 669, in __getitem__\\r\\n    raise KeyError(key) from None\\r\\nKeyError: \\'PROJ_LIB\\'\\r\\n' ok\n",
      "b'' b'Traceback (most recent call last):\\r\\n  File \"plotBasemap.py\", line 14, in <module>\\r\\n    from mpl_toolkits.basemap import Basemap\\r\\n  File \"C:\\\\Users\\\\Administrator\\\\Miniconda3\\\\lib\\\\site-packages\\\\mpl_toolkits\\\\basemap\\\\__init__.py\", line 155, in <module>\\r\\n    pyproj_datadir = os.environ[\\'PROJ_LIB\\']\\r\\n  File \"C:\\\\Users\\\\Administrator\\\\Miniconda3\\\\lib\\\\os.py\", line 669, in __getitem__\\r\\n    raise KeyError(key) from None\\r\\nKeyError: \\'PROJ_LIB\\'\\r\\n' ok\n",
      "Done!\n",
      "21 22 0.112192964505\n",
      "36 37\n"
     ]
    }
   ],
   "source": [
    "G21,G22,c2=bisectGraph(G2,21,22)\n",
    "\n",
    "\n",
    "print(21,22,community.modularity(G,[c[0],c2[0],c2[1]],weight='weight'))\n",
    "print(G21.number_of_nodes(),G22.number_of_nodes())"
   ]
  },
  {
   "cell_type": "code",
   "execution_count": 151,
   "metadata": {},
   "outputs": [
    {
     "name": "stdout",
     "output_type": "stream",
     "text": [
      "py -3 plotBasemap.py 111\n",
      "b'--> Community\\r\\nCommunity/a/map111\\r\\n' b'' ok\n",
      "b'--> Community\\r\\nCommunity/a/map112\\r\\n' b'' ok\n",
      "Done!\n",
      "py -3 plotBasemap.py 121\n",
      "b'--> Community\\r\\nCommunity/a/map121\\r\\n' b'' ok\n",
      "b'--> Community\\r\\nCommunity/a/map122\\r\\n' b'' ok\n",
      "Done!\n"
     ]
    }
   ],
   "source": [
    "G111,G112,c11=bisectGraph(G11,111,112)\n",
    "G121,G122,c12=bisectGraph(G12,121,122)"
   ]
  },
  {
   "cell_type": "code",
   "execution_count": 113,
   "metadata": {},
   "outputs": [
    {
     "name": "stdout",
     "output_type": "stream",
     "text": [
      "py -3 plotBasemap.py 211\n",
      "b'--> Community\\r\\nCommunity/a/map211\\r\\n' b'' ok\n",
      "b'--> Community\\r\\nCommunity/a/map212\\r\\n' b'' ok\n",
      "Done!\n"
     ]
    },
    {
     "data": {
      "text/plain": [
       "0.1110158022201358"
      ]
     },
     "execution_count": 113,
     "metadata": {},
     "output_type": "execute_result"
    }
   ],
   "source": [
    "G211,G212,c21=bisectGraph(G21,211,212)\n",
    "community.modularity(G,[c[0],c21[0],c21[1],c2[1]],weight='weight')"
   ]
  },
  {
   "cell_type": "code",
   "execution_count": 114,
   "metadata": {},
   "outputs": [
    {
     "name": "stdout",
     "output_type": "stream",
     "text": [
      "py -3 plotBasemap.py 221\n",
      "b'--> Community\\r\\nCommunity/a/map221\\r\\n' b'' ok\n",
      "b'--> Community\\r\\nCommunity/a/map222\\r\\n' b'' ok\n",
      "Done!\n"
     ]
    },
    {
     "data": {
      "text/plain": [
       "0.10432885718921882"
      ]
     },
     "execution_count": 114,
     "metadata": {},
     "output_type": "execute_result"
    }
   ],
   "source": [
    "G221,G222,c22=bisectGraph(G22,221,222)\n",
    "community.modularity(G,[c[0],c2[0],c22[0],c22[1]],weight='weight')"
   ]
  },
  {
   "cell_type": "code",
   "execution_count": 71,
   "metadata": {},
   "outputs": [
    {
     "name": "stdout",
     "output_type": "stream",
     "text": [
      "1\n",
      "b'--> Community\\r\\nCommunity/b/map10\\r\\n' b'' ok\n",
      "Done!\n"
     ]
    },
    {
     "data": {
      "text/plain": [
       "-2.6793745366745048e-16"
      ]
     },
     "execution_count": 71,
     "metadata": {},
     "output_type": "execute_result"
    }
   ],
   "source": [
    "GList,c=greedyModularity(G,1)\n",
    "community.modularity(G,c,weight='weight')"
   ]
  },
  {
   "cell_type": "code",
   "execution_count": 103,
   "metadata": {},
   "outputs": [
    {
     "name": "stdout",
     "output_type": "stream",
     "text": [
      "ok c\n",
      "b'--> Community\\r\\nCommunity/c/map11\\r\\n' b'' ok\n",
      "b'--> Community\\r\\nCommunity/c/map12\\r\\n' b'' ok\n",
      "b'--> Community\\r\\nCommunity/c/map13\\r\\n' b'' ok\n"
     ]
    }
   ],
   "source": [
    "GList,NList=pythonLouveinCom(G,1)"
   ]
  },
  {
   "cell_type": "code",
   "execution_count": 94,
   "metadata": {},
   "outputs": [
    {
     "data": {
      "text/plain": [
       "0.11740248949379459"
      ]
     },
     "execution_count": 94,
     "metadata": {},
     "output_type": "execute_result"
    }
   ],
   "source": [
    "community.modularity(G,NList,weight='weight')"
   ]
  },
  {
   "cell_type": "code",
   "execution_count": 95,
   "metadata": {},
   "outputs": [
    {
     "name": "stdout",
     "output_type": "stream",
     "text": [
      "ok c\n",
      "b'--> Community\\r\\nCommunity/c/map111\\r\\n' b'' ok\n",
      "b'--> Community\\r\\nCommunity/c/map112\\r\\n' b'' ok\n",
      "b'--> Community\\r\\nCommunity/c/map113\\r\\n' b'' ok\n"
     ]
    }
   ],
   "source": [
    "GList1,NList1=pythonLouveinCom(GList[0],11)"
   ]
  },
  {
   "cell_type": "code",
   "execution_count": 96,
   "metadata": {
    "scrolled": false
   },
   "outputs": [
    {
     "data": {
      "text/plain": [
       "0.10829049818839649"
      ]
     },
     "execution_count": 96,
     "metadata": {},
     "output_type": "execute_result"
    }
   ],
   "source": [
    "community.modularity(G,[NList1[0],NList1[1],NList1[2],NList[1],NList[2]],weight='weight')"
   ]
  },
  {
   "cell_type": "code",
   "execution_count": 97,
   "metadata": {},
   "outputs": [
    {
     "name": "stdout",
     "output_type": "stream",
     "text": [
      "ok c\n",
      "b'--> Community\\r\\nCommunity/c/map221\\r\\n' b'' ok\n",
      "b'--> Community\\r\\nCommunity/c/map222\\r\\n' b'' ok\n"
     ]
    }
   ],
   "source": [
    "GList2,NList2=pythonLouveinCom(GList[1],22)"
   ]
  },
  {
   "cell_type": "code",
   "execution_count": 98,
   "metadata": {},
   "outputs": [
    {
     "data": {
      "text/plain": [
       "0.11305280918966061"
      ]
     },
     "execution_count": 98,
     "metadata": {},
     "output_type": "execute_result"
    }
   ],
   "source": [
    "community.modularity(G,[NList[0],NList2[0],NList2[1],NList[2]],weight='weight')"
   ]
  },
  {
   "cell_type": "code",
   "execution_count": 99,
   "metadata": {},
   "outputs": [
    {
     "name": "stdout",
     "output_type": "stream",
     "text": [
      "ok c\n",
      "b'--> Community\\r\\nCommunity/c/map331\\r\\n' b'' ok\n",
      "b'--> Community\\r\\nCommunity/c/map332\\r\\n' b'' ok\n",
      "b'--> Community\\r\\nCommunity/c/map333\\r\\n' b'' ok\n"
     ]
    }
   ],
   "source": [
    "GList3,NList3=pythonLouveinCom(GList[2],33)"
   ]
  },
  {
   "cell_type": "code",
   "execution_count": 100,
   "metadata": {},
   "outputs": [
    {
     "data": {
      "text/plain": [
       "0.099176109572472124"
      ]
     },
     "execution_count": 100,
     "metadata": {},
     "output_type": "execute_result"
    }
   ],
   "source": [
    "community.modularity(G,[NList[0],NList[1],NList3[0],NList3[1],NList3[2]],weight='weight')"
   ]
  },
  {
   "cell_type": "code",
   "execution_count": 159,
   "metadata": {},
   "outputs": [],
   "source": [
    "carbA=[6,41,53,35]\n",
    "carbB=[9,10,23,24,25,34,36,42,44,50,11]\n",
    "# c[0],c2[0],c2[1]"
   ]
  },
  {
   "cell_type": "code",
   "execution_count": 140,
   "metadata": {},
   "outputs": [],
   "source": [
    "stateCodes=pickle.load(open(\"stateCode.pickle\",\"rb\"))\n",
    "degreeDict={}\n",
    "for i in degree:\n",
    "    degreeDict[i[0]]=i[1]"
   ]
  },
  {
   "cell_type": "code",
   "execution_count": 161,
   "metadata": {},
   "outputs": [
    {
     "name": "stdout",
     "output_type": "stream",
     "text": [
      "66.66666666666667 0.0 33.333333333333336\n",
      "['\"New Mexico\"', '\"California\"']\n",
      "[]\n",
      "['\"Colorado\"', '\"Arizona\"']\n"
     ]
    }
   ],
   "source": [
    "a,b,o=0,0,0\n",
    "total=0\n",
    "cA,cB,otherState=set(),set(),set()\n",
    "for temp in c12[0]:\n",
    "    key=int(temp.split('-')[0])\n",
    "    if key in carbA:\n",
    "        #a+=degreeDict[temp]\n",
    "        a+=1\n",
    "        cA.add(key)\n",
    "    elif key in carbB:\n",
    "        #b+=degreeDict[temp]\n",
    "        b+=1\n",
    "        cB.add(key)\n",
    "    else:\n",
    "        #print()\n",
    "        otherState.add(key)\n",
    "        #o+=degreeDict[temp]\n",
    "        o+=1\n",
    "    total+=1\n",
    "\n",
    "print(a*100/total,b*100/total,o*100/total)\n",
    "print([stateCodes[int(i)] for i in cA]) \n",
    "print([stateCodes[int(i)] for i in cB]) \n",
    "print([stateCodes[int(i)] for i in otherState])  "
   ]
  },
  {
   "cell_type": "code",
   "execution_count": 133,
   "metadata": {},
   "outputs": [
    {
     "data": {
      "text/plain": [
       "[68.233846816878071]"
      ]
     },
     "execution_count": 133,
     "metadata": {},
     "output_type": "execute_result"
    }
   ],
   "source": [
    "degreeDict[temp]"
   ]
  },
  {
   "cell_type": "code",
   "execution_count": 131,
   "metadata": {},
   "outputs": [],
   "source": []
  },
  {
   "cell_type": "code",
   "execution_count": null,
   "metadata": {},
   "outputs": [],
   "source": []
  }
 ],
 "metadata": {
  "kernelspec": {
   "display_name": "Python 3",
   "language": "python",
   "name": "python3"
  },
  "language_info": {
   "codemirror_mode": {
    "name": "ipython",
    "version": 3
   },
   "file_extension": ".py",
   "mimetype": "text/x-python",
   "name": "python",
   "nbconvert_exporter": "python",
   "pygments_lexer": "ipython3",
   "version": "3.6.3"
  }
 },
 "nbformat": 4,
 "nbformat_minor": 2
}
