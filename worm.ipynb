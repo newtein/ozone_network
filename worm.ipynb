{
 "cells": [
  {
   "cell_type": "code",
   "execution_count": 6,
   "metadata": {},
   "outputs": [
    {
     "name": "stdout",
     "output_type": "stream",
     "text": [
      "4\n"
     ]
    }
   ],
   "source": [
    "message=\"This is the message\"\n",
    "n=len(message)\n",
    "p=3\n",
    "mod=11\n",
    "ssum=0\n",
    "for i in range(n):\n",
    "    ssum+=ord(message[i])*pow(3,i)\n",
    "print(ssum%mod)\n",
    "    "
   ]
  },
  {
   "cell_type": "code",
   "execution_count": 19,
   "metadata": {},
   "outputs": [
    {
     "name": "stdout",
     "output_type": "stream",
     "text": [
      "{'192.68.16.6': {'192.68.16.8': [10, 1, 2, 3, 10, 0, 1, 8, 3, 5, 6, 9, 4, 0, 2, 4], '192.68.16.9': [10, 1, 2, 3, 10, 0, 1, 8, 3, 5, 6, 9, 4, 0, 2, 4], '192.68.16.10': [10, 1, 2, 3, 10, 0, 1, 8, 3, 5, 6, 9, 4, 0, 2, 4], '192.68.16.11': [10, 1, 2, 3, 10, 0, 1, 8, 3, 5, 6, 9, 4, 0, 2, 4]}, '192.68.16.9': {'192.68.16.7': [10, 1, 2, 3, 10, 0, 1, 8, 3, 5, 6, 9, 4, 0, 2, 4], '192.68.16.22': [10, 1, 2, 3, 10, 0, 1, 8, 3, 5, 6, 9, 4, 0, 2, 4]}, '192.68.16.22': {'192.68.16.1': [10, 1, 2, 3, 10, 0, 1, 8, 3, 5, 6, 9, 4, 0, 2, 4]}}\n"
     ]
    }
   ],
   "source": [
    "\n",
    "def getFingerprint(message):\n",
    "    bit=3\n",
    "    n=len(message)\n",
    "    p=3\n",
    "    mod=11\n",
    "    ssum=0\n",
    "    temp=[]\n",
    "    for i in range(0,n-3):\n",
    "        multiplier=0\n",
    "        for j in range(i,i+3):\n",
    "            ssum+=ord(message[j])*pow(3,multiplier)\n",
    "            multiplier+=1\n",
    "            #print(message[j])\n",
    "        temp.append(ssum%mod)\n",
    "    return temp\n",
    "\n",
    "f=open(\"wormFile.txt\",\"r\")\n",
    "srcDes={}\n",
    "for l in f:\n",
    "    row=l.split(',')\n",
    "    row=[i.strip() for i in row]\n",
    "    src=row[0]\n",
    "    des=row[1]\n",
    "    msg=row[2]\n",
    "    if src not in srcDes:\n",
    "        srcDes[src]={}\n",
    "    srcDes[src][des]=getFingerprint(msg)\n",
    "\n",
    "print(srcDes)\n",
    "    "
   ]
  },
  {
   "cell_type": "code",
   "execution_count": 24,
   "metadata": {},
   "outputs": [
    {
     "name": "stdout",
     "output_type": "stream",
     "text": [
      "192.68.16.6 192.68.16.8 worm\n",
      "192.68.16.6 192.68.16.9 worm\n",
      "192.68.16.6 192.68.16.10 worm\n",
      "192.68.16.6 192.68.16.11 worm\n"
     ]
    }
   ],
   "source": [
    "# {Source:\n",
    "#  {Destination:\n",
    "#      Fingerprint of the message}}\n",
    "\n",
    "threshold=3\n",
    "signature=10\n",
    "\n",
    "for src in srcDes:\n",
    "    if len(srcDes[src])>threshold:\n",
    "        for des in srcDes[src]:\n",
    "            if signature in srcDes[src][des]:\n",
    "                print(src,des,\"worm\")\n",
    "        \n",
    "        "
   ]
  },
  {
   "cell_type": "code",
   "execution_count": null,
   "metadata": {},
   "outputs": [],
   "source": []
  }
 ],
 "metadata": {
  "kernelspec": {
   "display_name": "Python 3",
   "language": "python",
   "name": "python3"
  },
  "language_info": {
   "codemirror_mode": {
    "name": "ipython",
    "version": 3
   },
   "file_extension": ".py",
   "mimetype": "text/x-python",
   "name": "python",
   "nbconvert_exporter": "python",
   "pygments_lexer": "ipython3",
   "version": "3.6.3"
  }
 },
 "nbformat": 4,
 "nbformat_minor": 2
}
